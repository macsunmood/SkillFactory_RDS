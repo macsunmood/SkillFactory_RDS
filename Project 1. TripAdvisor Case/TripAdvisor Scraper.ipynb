{
 "cells": [
  {
   "cell_type": "markdown",
   "metadata": {},
   "source": [
    "### TripAdvisor Scraper"
   ]
  },
  {
   "cell_type": "markdown",
   "metadata": {},
   "source": [
    "#### Import and Load"
   ]
  },
  {
   "cell_type": "code",
   "execution_count": 1,
   "metadata": {},
   "outputs": [],
   "source": [
    "import pandas as pd\n",
    "from datetime import datetime, timedelta\n",
    "datetimify_timestamp = lambda s: datetime.strptime(s, '%Y%m%d')\n",
    "\n",
    "from bs4 import BeautifulSoup\n",
    "import requests\n",
    "\n",
    "# Load data\n",
    "df_train = pd.read_csv('main_task.csv')\n",
    "df_test = pd.read_csv('kaggle_task.csv')"
   ]
  },
  {
   "cell_type": "markdown",
   "metadata": {},
   "source": [
    "#### Create Dataframe"
   ]
  },
  {
   "cell_type": "code",
   "execution_count": 211,
   "metadata": {},
   "outputs": [],
   "source": [
    "df_test.drop('Name', axis=1, inplace=True)\n",
    "\n",
    "df = df_test.append(df_train, sort=False).reset_index(drop=True)"
   ]
  },
  {
   "cell_type": "code",
   "execution_count": 218,
   "metadata": {},
   "outputs": [],
   "source": [
    "url_ta_column = 'URL_TA'\n",
    "id_ta_column = 'ID_TA'\n",
    "prices_column = 'Price Range'\n",
    "reviews_column = 'Number of Reviews'\n",
    "cuisines_column = 'Cuisine Style'\n",
    "\n",
    "nan_prices = df[df[prices_column].isna()][id_ta_column]\n",
    "nan_reviews = df[df[reviews_column].isna()][id_ta_column]\n",
    "nan_cuisines = df[df[cuisines_column].isna()][id_ta_column]\n",
    "\n",
    "all_id_tas = df[id_ta_column]"
   ]
  },
  {
   "cell_type": "markdown",
   "metadata": {},
   "source": [
    "#### Configure Parsing Settings"
   ]
  },
  {
   "cell_type": "code",
   "execution_count": 224,
   "metadata": {},
   "outputs": [],
   "source": [
    "class__prices_range = 'prw_rup prw_restaurants_restaurant_detail_tags tagsContainer'\n",
    "class__review_count = 'reviewCount'\n",
    "class__cuisines = 'restaurants-detail-overview-cards-DetailsSectionOverviewCard__tagText--1OH6h'\n",
    "class__ratings = 'restaurants-detail-overview-cards-RatingsOverviewCard__ratingQuestionRow--5nPGK'\n",
    "\n",
    "\n",
    "base_url = 'https://www.tripadvisor.com'"
   ]
  },
  {
   "cell_type": "code",
   "execution_count": 10,
   "metadata": {},
   "outputs": [
    {
     "name": "stdout",
     "output_type": "stream",
     "text": [
      "$$$$\n",
      "265 reviews\n",
      "Italian, Mediterranean, European\n",
      "https://www.tripadvisor.com/Restaurant_Review-g186338-d680417-Reviews-Quirinale-London_England.html\n"
     ]
    }
   ],
   "source": [
    "prices_range = page.find('div', class_=class__prices_range).find('a').text\n",
    "review_count = page.find('span', class_=class__review_count).text\n",
    "cuisines = page.find('div', text='CUISINES').findNextSibling().text\n",
    "\n",
    "print(prices_range)\n",
    "print(review_count)\n",
    "print(cuisines)\n",
    "print(response.url)"
   ]
  },
  {
   "cell_type": "code",
   "execution_count": 210,
   "metadata": {},
   "outputs": [
    {
     "name": "stdout",
     "output_type": "stream",
     "text": [
      "0 : [d10746918 --> d4990732] \n",
      "1 : [Ravintola_Kolmon3n --> Restaurant_Kolmon3n] \n"
     ]
    }
   ],
   "source": [
    "# Check whether any rest pages URLs changed\n",
    "def find_diff(url1, url2):\n",
    "    old = url1.split('-')\n",
    "    new = url2.split('-')\n",
    "    \n",
    "    changes = ''\n",
    "    for i in range(len(old)):\n",
    "        if old[i] != new[i]:\n",
    "            changes += '[' + old[i] + ' --> ' + new[i] + '] '\n",
    "    return changes\n",
    "\n",
    "for i in range(10):\n",
    "    add_url = df.iloc[i][url_ta_column]\n",
    "    url = base_url + add_url\n",
    "    response = requests.get(url)\n",
    "    page = BeautifulSoup(response.text, 'html.parser')\n",
    "    if response.url != url:\n",
    "        print(i, ':', find_diff(url, response.url))"
   ]
  },
  {
   "cell_type": "code",
   "execution_count": 273,
   "metadata": {},
   "outputs": [],
   "source": [
    "def fetch_page(i):\n",
    "    add_url = df[df[id_ta_column] == i].iloc[0][url_ta_column]\n",
    "    r = requests.get(base_url + add_url)\n",
    "    return BeautifulSoup(r.text, 'html.parser')\n",
    "\n",
    "def get_prices(i):\n",
    "    f1 = fetch_page(i).find('div', class_ = class__prices_range)\n",
    "    if f1:\n",
    "        f2 = f1.find('a')\n",
    "        pr = f2.text if f2 else ''\n",
    "        if '$' in pr: return [i, pr]\n",
    "    return None\n",
    "\n",
    "def get_reviews(i):\n",
    "    f1 = fetch_page(i).find('span', class_ = class__review_count)\n",
    "    if f1:\n",
    "        pr = f1.text.replace(' review', '').replace('s', '').replace(',', '')\n",
    "        return [i, int(pr)]\n",
    "    return None\n",
    "\n",
    "def get_ratings(i):\n",
    "    ratings = []\n",
    "    f1 = fetch_page(i).find_all(class_ = 'ui_bubble_rating')[2:6]\n",
    "    for r in f1:\n",
    "        ratings.append(float(r.attrs['class'][1][-2:]) / 10)\n",
    "    return ratings"
   ]
  },
  {
   "cell_type": "code",
   "execution_count": 282,
   "metadata": {},
   "outputs": [
    {
     "name": "stdout",
     "output_type": "stream",
     "text": [
      "1.6 s ± 209 ms per loop (mean ± std. dev. of 7 runs, 1 loop each)\n"
     ]
    }
   ],
   "source": [
    "ratings_columns = ['rating_Food', 'rating_Service', 'rating_Value', 'rating_Atmosphere']"
   ]
  },
  {
   "cell_type": "code",
   "execution_count": 69,
   "metadata": {},
   "outputs": [],
   "source": [
    "from multiprocessing.dummy import Pool as ThreadPool\n",
    "pool = ThreadPool()\n",
    "\n",
    "results_prices = pool.map(get_prices, nan_prices[:100])\n",
    "\n",
    "pool.close()\n",
    "pool.join()"
   ]
  },
  {
   "cell_type": "code",
   "execution_count": 72,
   "metadata": {
    "scrolled": true
   },
   "outputs": [
    {
     "data": {
      "text/plain": [
       "[['d8286886', '$'],\n",
       " ['d12947542', '$$ - $$$'],\n",
       " ['d12716384', '$$ - $$$'],\n",
       " ['d7818546', '$$ - $$$'],\n",
       " ['d1344523', '$$ - $$$'],\n",
       " None,\n",
       " None,\n",
       " None,\n",
       " ['d5795143', '$$ - $$$'],\n",
       " None,\n",
       " ['d13234520', '$$ - $$$'],\n",
       " None,\n",
       " ['d8180306', '$'],\n",
       " None,\n",
       " None,\n",
       " None,\n",
       " ['d9561771', '$$ - $$$'],\n",
       " None,\n",
       " ['d11633790', '$'],\n",
       " None,\n",
       " ['d8448700', '$'],\n",
       " ['d5776216', '$$ - $$$'],\n",
       " None,\n",
       " None,\n",
       " ['d8338351', '$'],\n",
       " ['d8352929', '$$ - $$$'],\n",
       " ['d719850', '$$ - $$$'],\n",
       " None,\n",
       " ['d6962328', '$'],\n",
       " None,\n",
       " ['d8837875', '$'],\n",
       " ['d7813343', '$$ - $$$'],\n",
       " None,\n",
       " ['d9762124', '$$ - $$$'],\n",
       " ['d8376187', '$$ - $$$'],\n",
       " None,\n",
       " ['d9559203', '$$ - $$$'],\n",
       " None,\n",
       " ['d10455057', '$'],\n",
       " None,\n",
       " None,\n",
       " None,\n",
       " None,\n",
       " ['d7818336', '$$ - $$$'],\n",
       " None,\n",
       " None,\n",
       " ['d12286606', '$'],\n",
       " ['d2284554', '$$ - $$$'],\n",
       " None,\n",
       " None,\n",
       " ['d12172104', '$'],\n",
       " None,\n",
       " ['d12673809', '$$ - $$$'],\n",
       " ['d12662600', '$$ - $$$'],\n",
       " ['d5820527', '$'],\n",
       " ['d5796259', '$'],\n",
       " ['d6016792', '$'],\n",
       " ['d8580647', '$'],\n",
       " ['d5223231', '$'],\n",
       " ['d2244203', '$$ - $$$'],\n",
       " None,\n",
       " ['d6767680', '$$ - $$$'],\n",
       " None,\n",
       " ['d9742064', '$$ - $$$'],\n",
       " ['d12373265', '$$ - $$$'],\n",
       " None,\n",
       " ['d1381958', '$$ - $$$'],\n",
       " None,\n",
       " ['d1359197', '$$ - $$$'],\n",
       " None,\n",
       " ['d12419687', '$'],\n",
       " ['d5616724', '$$ - $$$'],\n",
       " None,\n",
       " ['d12900078', '$'],\n",
       " ['d9846374', '$'],\n",
       " ['d10040653', '$'],\n",
       " ['d10390082', '$$ - $$$'],\n",
       " None,\n",
       " None,\n",
       " None,\n",
       " ['d1344132', '$$ - $$$'],\n",
       " ['d5512401', '$'],\n",
       " ['d4919219', '$$ - $$$'],\n",
       " None,\n",
       " None,\n",
       " None,\n",
       " ['d12637137', '$'],\n",
       " None,\n",
       " None,\n",
       " None,\n",
       " ['d13326576', '$$ - $$$'],\n",
       " None,\n",
       " None,\n",
       " ['d8139612', '$'],\n",
       " ['d10763412', '$'],\n",
       " None,\n",
       " None,\n",
       " None,\n",
       " None,\n",
       " ['d10433666', '$']]"
      ]
     },
     "execution_count": 72,
     "metadata": {},
     "output_type": "execute_result"
    }
   ],
   "source": [
    "results_prices"
   ]
  },
  {
   "cell_type": "code",
   "execution_count": 73,
   "metadata": {},
   "outputs": [],
   "source": [
    "pool = ThreadPool()\n",
    "\n",
    "results_reviews = pool.map(get_reviews, nan_reviews[:1000])\n",
    "\n",
    "pool.close()\n",
    "pool.join()"
   ]
  },
  {
   "cell_type": "code",
   "execution_count": 75,
   "metadata": {
    "scrolled": true
   },
   "outputs": [
    {
     "data": {
      "text/plain": [
       "1000"
      ]
     },
     "execution_count": 75,
     "metadata": {},
     "output_type": "execute_result"
    }
   ],
   "source": [
    "len(results_reviews)"
   ]
  },
  {
   "cell_type": "code",
   "execution_count": 44,
   "metadata": {},
   "outputs": [
    {
     "data": {
      "text/plain": [
       "3200"
      ]
     },
     "execution_count": 44,
     "metadata": {},
     "output_type": "execute_result"
    }
   ],
   "source": [
    "result_reviews = list(filter(None, result_reviews))\n",
    "print(len(result_reviews))"
   ]
  },
  {
   "cell_type": "code",
   "execution_count": 5,
   "metadata": {},
   "outputs": [
    {
     "ename": "NameError",
     "evalue": "name 'result_reviews' is not defined",
     "output_type": "error",
     "traceback": [
      "\u001b[1;31m---------------------------------------------------------------------------\u001b[0m",
      "\u001b[1;31mNameError\u001b[0m                                 Traceback (most recent call last)",
      "\u001b[1;32m<ipython-input-5-bbf78ad88255>\u001b[0m in \u001b[0;36m<module>\u001b[1;34m\u001b[0m\n\u001b[0;32m      4\u001b[0m \u001b[1;31m# cuisines_column = 'Cuisine Style'\u001b[0m\u001b[1;33m\u001b[0m\u001b[1;33m\u001b[0m\u001b[1;33m\u001b[0m\u001b[0m\n\u001b[0;32m      5\u001b[0m \u001b[1;33m\u001b[0m\u001b[0m\n\u001b[1;32m----> 6\u001b[1;33m df_result_reviews = pd.DataFrame(result_reviews,\n\u001b[0m\u001b[0;32m      7\u001b[0m                                  columns = [id_ta_column, reviews_column])\n\u001b[0;32m      8\u001b[0m \u001b[1;33m\u001b[0m\u001b[0m\n",
      "\u001b[1;31mNameError\u001b[0m: name 'result_reviews' is not defined"
     ]
    }
   ],
   "source": [
    "df_result_reviews = pd.DataFrame(result_reviews,\n",
    "                                 columns=[id_ta_column, reviews_column])\n",
    "\n",
    "\n",
    "print(df_result_reviews)"
   ]
  },
  {
   "cell_type": "code",
   "execution_count": null,
   "metadata": {},
   "outputs": [],
   "source": [
    "df_result_reviews.to_csv('parsed_reviews.csv', index=False)"
   ]
  },
  {
   "cell_type": "code",
   "execution_count": 4,
   "metadata": {},
   "outputs": [
    {
     "name": "stdout",
     "output_type": "stream",
     "text": [
      "<class 'pandas.core.frame.DataFrame'>\n",
      "RangeIndex: 3157 entries, 0 to 3156\n",
      "Data columns (total 2 columns):\n",
      "ID_TA                3157 non-null object\n",
      "Number of Reviews    3157 non-null int64\n",
      "dtypes: int64(1), object(1)\n",
      "memory usage: 49.5+ KB\n"
     ]
    }
   ],
   "source": [
    "df_results_loaded = pd.read_csv('parsed_reviews.csv')\n",
    "\n",
    "df_results_loaded.info()"
   ]
  },
  {
   "cell_type": "code",
   "execution_count": 95,
   "metadata": {},
   "outputs": [],
   "source": [
    "webarchive_availability_url = 'http://archive.org/wayback/available?url='\n",
    "\n",
    "def fetch_webarchive(i):\n",
    "    add_url = df[df['ID_TA'] == i].iloc[0]['URL_TA']\n",
    "    r = requests.get(webarchive_availability_url + base_url + add_url + '&timestamp=2017')\n",
    "    return r.json()"
   ]
  },
  {
   "cell_type": "code",
   "execution_count": 183,
   "metadata": {},
   "outputs": [],
   "source": [
    "def parse_webarchive_page(id_ta):\n",
    "    page = fetch_webarchive(id_ta)\n",
    "    info = page['archived_snapshots']\n",
    "    if info != {}:\n",
    "        return {id_ta: info['closest']['timestamp']}"
   ]
  },
  {
   "cell_type": "code",
   "execution_count": 184,
   "metadata": {},
   "outputs": [],
   "source": [
    "# TripAdvisor server doesn't withstand a load of more than 2 Threads at once\n",
    "pool = ThreadPool(2)\n",
    "\n",
    "archived_pages = pool.map(parse_webarchive_page, nan_reviews[:100])\n",
    "\n",
    "pool.close()\n",
    "pool.join()"
   ]
  },
  {
   "cell_type": "code",
   "execution_count": 185,
   "metadata": {},
   "outputs": [
    {
     "data": {
      "text/plain": [
       "[{'d8286886': '20151202020851'},\n",
       " {'d13202032': '20190823021814'},\n",
       " None,\n",
       " None,\n",
       " None,\n",
       " None,\n",
       " None,\n",
       " None,\n",
       " None,\n",
       " {'d753088': '20151201203102'},\n",
       " None,\n",
       " None,\n",
       " None,\n",
       " None,\n",
       " None,\n",
       " None,\n",
       " None,\n",
       " None,\n",
       " {'d7287872': '20190814182237'},\n",
       " {'d8364955': '20190928215018'},\n",
       " None,\n",
       " {'d7123259': '20191004040557'},\n",
       " None,\n",
       " None,\n",
       " None,\n",
       " None,\n",
       " None,\n",
       " None,\n",
       " {'d12151343': '20190924005136'},\n",
       " None,\n",
       " {'d12145892': '20190917081708'},\n",
       " None,\n",
       " None,\n",
       " None,\n",
       " None,\n",
       " {'d7701632': '20190909210139'},\n",
       " None,\n",
       " None,\n",
       " None,\n",
       " None,\n",
       " None,\n",
       " None,\n",
       " None,\n",
       " None,\n",
       " None,\n",
       " None,\n",
       " None,\n",
       " None,\n",
       " None,\n",
       " None,\n",
       " None,\n",
       " {'d10054994': '20190914172637'},\n",
       " None,\n",
       " None,\n",
       " {'d7124372': '20191001201534'},\n",
       " None,\n",
       " None,\n",
       " None,\n",
       " {'d7234492': '20191101080210'},\n",
       " None,\n",
       " None,\n",
       " None,\n",
       " {'d10521562': '20190519080408'},\n",
       " None,\n",
       " None,\n",
       " None,\n",
       " None,\n",
       " None,\n",
       " None,\n",
       " None,\n",
       " {'d815943': '20191023104409'},\n",
       " {'d5872661': '20151231230440'},\n",
       " None,\n",
       " None,\n",
       " {'d11737024': '20190910004132'},\n",
       " None,\n",
       " {'d986295': '20191018092726'},\n",
       " None,\n",
       " None,\n",
       " None,\n",
       " None,\n",
       " None,\n",
       " {'d717315': '20151125211816'},\n",
       " None,\n",
       " {'d10075998': '20190616224725'},\n",
       " None,\n",
       " None,\n",
       " None,\n",
       " None,\n",
       " None,\n",
       " None,\n",
       " None,\n",
       " {'d9809531': '20190614032637'},\n",
       " None,\n",
       " None,\n",
       " None,\n",
       " None,\n",
       " None,\n",
       " {'d12049182': '20191101223628'},\n",
       " None]"
      ]
     },
     "execution_count": 185,
     "metadata": {},
     "output_type": "execute_result"
    }
   ],
   "source": [
    "archived_pages"
   ]
  }
 ],
 "metadata": {
  "kernelspec": {
   "display_name": "Python 3",
   "language": "python",
   "name": "python3"
  },
  "language_info": {
   "codemirror_mode": {
    "name": "ipython",
    "version": 3
   },
   "file_extension": ".py",
   "mimetype": "text/x-python",
   "name": "python",
   "nbconvert_exporter": "python",
   "pygments_lexer": "ipython3",
   "version": "3.8.5"
  },
  "toc": {
   "base_numbering": 1,
   "nav_menu": {},
   "number_sections": false,
   "sideBar": true,
   "skip_h1_title": false,
   "title_cell": "Table of Contents",
   "title_sidebar": "Contents",
   "toc_cell": false,
   "toc_position": {},
   "toc_section_display": true,
   "toc_window_display": true
  },
  "varInspector": {
   "cols": {
    "lenName": 16,
    "lenType": 16,
    "lenVar": 40
   },
   "kernels_config": {
    "python": {
     "delete_cmd_postfix": "",
     "delete_cmd_prefix": "del ",
     "library": "var_list.py",
     "varRefreshCmd": "print(var_dic_list())"
    },
    "r": {
     "delete_cmd_postfix": ") ",
     "delete_cmd_prefix": "rm(",
     "library": "var_list.r",
     "varRefreshCmd": "cat(var_dic_list()) "
    }
   },
   "types_to_exclude": [
    "module",
    "function",
    "builtin_function_or_method",
    "instance",
    "_Feature"
   ],
   "window_display": false
  }
 },
 "nbformat": 4,
 "nbformat_minor": 2
}
