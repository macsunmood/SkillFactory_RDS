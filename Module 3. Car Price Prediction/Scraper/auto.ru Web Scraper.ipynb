{
 "cells": [
  {
   "cell_type": "markdown",
   "metadata": {},
   "source": [
    "### Imports and Config"
   ]
  },
  {
   "cell_type": "code",
   "execution_count": null,
   "metadata": {},
   "outputs": [],
   "source": [
    "# Основные библиотеки для работ с веб\n",
    "# Main web works libraries\n",
    "import requests\n",
    "from bs4 import BeautifulSoup\n",
    "\n",
    "from time import sleep"
   ]
  },
  {
   "cell_type": "code",
   "execution_count": null,
   "metadata": {},
   "outputs": [],
   "source": [
    "# Главный URL для скрэпинга и URL каталога марок и моделей\n",
    "# Main URL for scraping and URL of marks and models catalog\n",
    "URL = 'https://auto.ru/-/ajax/desktop/listing/'\n",
    "URL_CATALOG = 'https://auto.ru/htmlsitemap/mark_model_catalog.html'\n",
    "\n",
    "# Заголовки веб-страницы\n",
    "# Webpage headers\n",
    "HEADERS = {\n",
    "    'Accept': '*/*',\n",
    "    'Accept-Encoding': 'gzip, deflate, br',\n",
    "    'Accept-Language': 'ru-RU,ru;q=0.9,en-US;q=0.8,en;q=0.7',\n",
    "    'Connection': 'keep-alive',\n",
    "    'Content-Length': '77',\n",
    "    'content-type': 'application/json',\n",
    "    'Cookie': '_csrf_token=23608122d7607cf614fa3696f170304f2c942825086d7100; autoru_sid=a%3Ag5e54cb202kbrp94k5stjgeuok5qc0lr.a4bf836f5de7a860384d4bb97a55d0e0%7C1582615328026.604800.Q6xoprzzbkFU9J433uQN0A.34nVWWhPYMf2gQUyYdxm-hAPmkz-UZuRfIKcHxDth7w; autoruuid=g5e54cb202kbrp94k5stjgeuok5qc0lr.a4bf836f5de7a860384d4bb97a55d0e0; suid=f70cb3a665b30dabcc2aefb60beba688.092164db5081dbf54d3645dd1160a738; yandexuid=4412548211582615329; _ym_wasSynced=%7B%22time%22%3A1582615332141%2C%22params%22%3A%7B%22eu%22%3A0%7D%2C%22bkParams%22%3A%7B%7D%7D; gdpr=0; _ym_uid=1582615332878294126; _ym_isad=2; gids=; from=direct; X-Vertis-DC=myt; _ym_visorc_22753222=b; cycada=1Ra6P74hpA1DJTHrQBDvqC2RWMZ0zfqbWbqR95lvoFc=; from_lifetime=1582636077325; _ym_d=1582636077',\n",
    "    'Host': 'auto.ru',\n",
    "    'Origin': 'https://auto.ru',\n",
    "    'Referer': 'https://auto.ru/cars/used/?sort=fresh_relevance_1-desc&page=1',\n",
    "    'Sec-Fetch-Dest': 'empty',\n",
    "    'Sec-Fetch-Mode': 'same-origin',\n",
    "    'Sec-Fetch-Site': 'same-origin',\n",
    "    'User-Agent': 'Mozilla/5.0 (Windows NT 6.1; Win64; x64) AppleWebKit/537.36 \\\n",
    "    (KHTML, like Gecko) Chrome/80.0.3987.116 Safari/537.36',\n",
    "    'x-client-app-version': '202002.20.164944',\n",
    "    'x-client-date': '1582636185640',\n",
    "    'x-csrf-token': '23608122d7607cf614fa3696f170304f2c942825086d7100',\n",
    "    'x-page-request-id': '4e70327218c7ba488485edc641875179',\n",
    "    'x-requested-with': 'fetch'\n",
    "}\n",
    "\n",
    "# Параметры запроса\n",
    "# Request parameters\n",
    "PARAMS = {\n",
    "    'section': 'used',\n",
    "    'category': 'cars',\n",
    "    'sort': 'fresh_relevance_1-desc',\n",
    "    'geo_radius': 200,\n",
    "    'geo_id': 213,\n",
    "    \"top_days\": 0\n",
    "}\n",
    "\n",
    "# Шаблон считываемых характеристик автомобиля\n",
    "# Pattern of vehicle characteristics to read\n",
    "CAR_PATTERN = {\n",
    "    \"bodyType\"            : \"['vehicle_info']['configuration']['human_name']\",\n",
    "    \"brand\"               : \"['vehicle_info']['mark_info']['code']\",\n",
    "    \"color\"               : \"['color_hex']\",\n",
    "    \"fuelType\"            : \"['lk_summary'].split()[-1]\",\n",
    "    \"modelDate\"           : \"['vehicle_info']['super_gen']['year_from']\",\n",
    "    \"name\"                : \"['vehicle_info']['tech_param']['human_name']\",\n",
    "    \"numberOfDoors\"       : \"['vehicle_info']['configuration']['doors_count']\",\n",
    "    \"productionDate\"      : \"['documents']['year']\",\n",
    "    \"vehicleConfiguration\": \"['vehicle_info']['tech_param']['transmission']\",\n",
    "    \"engineDisplacement\"  : \"['vehicle_info']['tech_param']['human_name'].split()[0]\",\n",
    "    \"enginePower\"         : \"['vehicle_info']['tech_param']['power']\",\n",
    "    \"description\"         : \"['description']\",\n",
    "    \"mileage\"             : \"['state']['mileage']\",\n",
    "    \"Комплектация\"        : \"['vehicle_info']['complectation']\",\n",
    "    \"Привод\"              : \"['lk_summary'].split(', ')[-2]\",\n",
    "    \"Руль\"                : \"['vehicle_info']['steering_wheel']\",\n",
    "    \"Владельцы\"           : \"['documents']['owners_number']\",\n",
    "    \"ПТС\"                 : \"['documents']['pts']\",\n",
    "    \"Таможня\"             : \"['documents']['custom_cleared']\",\n",
    "    \"Владение\"            : \"['documents']['purchase_date']\",\n",
    "    \"Price\"               : \"['price_info']['RUR']\"\n",
    "}\n",
    "\n",
    "# Время ожидания при ошибках от сервера (в сек.)\n",
    "# Time delay when server request error occurs\n",
    "SLEEP_TIME = 20\n",
    "\n",
    "# Искомые марки автомобилей\n",
    "# Car brands to look for\n",
    "MARKS = ['MERCEDES', 'INFINITI', 'NISSAN', 'BMW', 'VOLKSWAGEN', 'MITSUBISHI', \n",
    "         'TOYOTA', 'VOLVO', 'SKODA', 'LEXUS', 'AUDI', 'HONDA', 'SUZUKI']\n",
    "\n",
    "# Глобальная переменная для полученных результатов\n",
    "# Global variable for obtained results\n",
    "results = {}"
   ]
  },
  {
   "cell_type": "markdown",
   "metadata": {},
   "source": [
    "### Helper Functions"
   ]
  },
  {
   "cell_type": "code",
   "execution_count": null,
   "metadata": {},
   "outputs": [],
   "source": [
    "# Функция создает список всех нужных марок и моделей для скрэпера из каталога, размещенного на сайте\n",
    "def make_models_list():\n",
    "    '''Creates models list needed for the scraper from auto.ru catalog webpage'''\n",
    "    # Retrieve cars catalog page contents\n",
    "    r = requests.get(URL_CATALOG)\n",
    "    r.encoding = 'utf-8'\n",
    "    r = r.text\n",
    "    \n",
    "    # Parse with BeautifulSoup\n",
    "    soup = BeautifulSoup(r, 'html.parser')\n",
    "    rows = soup.find('div', class_='sitemap').find_all('a')\n",
    "    \n",
    "    # Obtain models list from parsing result\n",
    "    models_list = []\n",
    "    for r in rows:\n",
    "        parts = r.get('href').split('/')\n",
    "        mark, model = parts[3].upper(), parts[4].upper()\n",
    "        if mark in MARKS:  # take only car brands we're looking for\n",
    "            models_list.append((mark, model))\n",
    "            \n",
    "    return models_list"
   ]
  },
  {
   "cell_type": "code",
   "execution_count": null,
   "metadata": {},
   "outputs": [],
   "source": [
    "# Функция обрабатывает страницы сайта и пополняет словарь результатов\n",
    "def get_cars(m):\n",
    "    '''\n",
    "    Recieves mark-model pair ('m') from the models list.\n",
    "    Processes the site pages and replenishes the results dictionary.    \n",
    "    '''\n",
    "    # Iterate through first 600 pages, updating the request parameters\n",
    "    for page in range(1, 600):\n",
    "        PARAMS.update({\n",
    "            'catalog_filter': [{'mark': m[0], 'model': m[1]}],\n",
    "            'page': page\n",
    "        })\n",
    "        \n",
    "        # Try to get requested until success\n",
    "        while True:\n",
    "            try:\n",
    "                r = requests.post(URL, json=PARAMS, headers=HEADERS)\n",
    "                break\n",
    "            except:\n",
    "                print(f'ERROR! Waiting {SLEEP_TIME} secs...')\n",
    "                sleep(SLEEP_TIME)\n",
    "                \n",
    "        offers = r.json()['offers']  # obtain offers\n",
    "\n",
    "        if offers == []: break  # next page if no offers\n",
    "        for i in offers:\n",
    "            id_ = len(results)\n",
    "            results[id_] = {}  # update the global results dict with obtained offers\n",
    "\n",
    "            # Try to get vehicle characteristics\n",
    "            for k in CAR_PATTERN:\n",
    "                try: v = eval('i' + CAR_PATTERN[k])\n",
    "                except: v = None\n",
    "                results[id_].update({k: v})  # update if succeed\n",
    "                \n",
    "        print(f'id: [{id_}] page: [{page}] :: {m[0]} {m[1]}')"
   ]
  },
  {
   "cell_type": "markdown",
   "metadata": {},
   "source": [
    "### Perform Scraping"
   ]
  },
  {
   "cell_type": "code",
   "execution_count": null,
   "metadata": {},
   "outputs": [],
   "source": [
    "from multiprocessing.dummy import Pool as ThreadPool\n",
    "\n",
    "# Функция осуществляет скрэпинг с возможностью работы в многопоточном режиме\n",
    "# и опционально получать данные только за последний день\n",
    "def PerformScraping(this_day=False, multithreaded=False):\n",
    "    '''\n",
    "    Performs the scrapping process with the ability to work in multithreaded mode \n",
    "    and optionally receive data for the last day only.\n",
    "    \n",
    "    Params:\n",
    "        this_day (bool): whether to get contents for the last day only.\n",
    "        multithreaded (bool): if True, use multithreading.\n",
    "\n",
    "    Returns:\n",
    "        replenishes the global 'results' dictionary\n",
    "    '''\n",
    "    results = {}\n",
    "    models_list = make_models_list()\n",
    "    PARAMS.update({ 'top_days': int(this_day) })\n",
    "    \n",
    "    if multithreaded:\n",
    "        pool = ThreadPool()\n",
    "        pool.map(get_cars, models_list)\n",
    "        pool.close()\n",
    "        pool.join()\n",
    "    else:\n",
    "        for mm in models_list:\n",
    "            get_cars(mm)"
   ]
  },
  {
   "cell_type": "code",
   "execution_count": null,
   "metadata": {},
   "outputs": [],
   "source": [
    "'''\n",
    "::: INSTRUCTIONS FOR USE :::\n",
    "\n",
    "PerformScraping() function implements the entire web scraping \n",
    "process filling the 'results' dictionary with obtained data.\n",
    "First, it generates the cars models list via make_models_list().\n",
    "Then goes to scraping using get_cars().\n",
    "\n",
    "The available param arguments are as follows:\n",
    "    * this_day (default: False) \n",
    "        - defines whether the data will be searched for current day only;\n",
    "          (this is used in order to make daily updates of the dataset);\n",
    "    * multithreaded (default: False) \n",
    "        - toggles use of multithreading for faster experience; if neither defined, \n",
    "          scraper performs a standart one-threaded sequential processing\n",
    "          (in case multithreading goes wrong).\n",
    "\n",
    "Just uncomment the desired run mode:\n",
    "'''\n",
    "\n",
    "# PerformScraping(this_day=False, multithreaded=True)\n",
    "PerformScraping(this_day=True, multithreaded=True)\n",
    "# PerformScraping(this_day=False, multithreaded=False)\n",
    "# PerformScraping(this_day=True, multithreaded=False)"
   ]
  },
  {
   "cell_type": "markdown",
   "metadata": {},
   "source": [
    "### Save"
   ]
  },
  {
   "cell_type": "code",
   "execution_count": null,
   "metadata": {
    "scrolled": false
   },
   "outputs": [],
   "source": [
    "# Сохраняем полученные данные\n",
    "# Save the obtained data\n",
    "\n",
    "from datetime import datetime\n",
    "now = datetime.now().strftime('[%d.%m.%Y]-[%H-%M]')\n",
    "prefix = 'auto_ru_Scraped'\n",
    "filename = f'{prefix}-{now}.csv'\n",
    "\n",
    "from pandas import DataFrame\n",
    "DataFrame(results).T.to_csv(filename, index=False)\n",
    "print('Written file:', filename)"
   ]
  }
 ],
 "metadata": {
  "kernelspec": {
   "display_name": "Python 3",
   "language": "python",
   "name": "python3"
  },
  "language_info": {
   "codemirror_mode": {
    "name": "ipython",
    "version": 3
   },
   "file_extension": ".py",
   "mimetype": "text/x-python",
   "name": "python",
   "nbconvert_exporter": "python",
   "pygments_lexer": "ipython3",
   "version": "3.8.5"
  },
  "toc": {
   "base_numbering": 1,
   "nav_menu": {},
   "number_sections": false,
   "sideBar": true,
   "skip_h1_title": false,
   "title_cell": "Table of Contents",
   "title_sidebar": "Contents",
   "toc_cell": false,
   "toc_position": {
    "height": "calc(100% - 180px)",
    "left": "10px",
    "top": "150px",
    "width": "384px"
   },
   "toc_section_display": true,
   "toc_window_display": true
  },
  "varInspector": {
   "cols": {
    "lenName": 16,
    "lenType": 16,
    "lenVar": 40
   },
   "kernels_config": {
    "python": {
     "delete_cmd_postfix": "",
     "delete_cmd_prefix": "del ",
     "library": "var_list.py",
     "varRefreshCmd": "print(var_dic_list())"
    },
    "r": {
     "delete_cmd_postfix": ") ",
     "delete_cmd_prefix": "rm(",
     "library": "var_list.r",
     "varRefreshCmd": "cat(var_dic_list()) "
    }
   },
   "types_to_exclude": [
    "module",
    "function",
    "builtin_function_or_method",
    "instance",
    "_Feature"
   ],
   "window_display": false
  }
 },
 "nbformat": 4,
 "nbformat_minor": 4
}
