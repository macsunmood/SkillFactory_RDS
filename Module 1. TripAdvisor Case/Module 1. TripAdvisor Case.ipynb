{
 "cells": [
  {
   "cell_type": "markdown",
   "metadata": {},
   "source": [
    "### Contents:\n",
    "\n",
    "* **Setup**\n",
    "    * [Import and Load](#IMPORT)\n",
    "    * [Configure Presets](#CONFIGURE_PRESETS)\n",
    "* [**Data Preparation**](#DATA_PREPARATION)\n",
    "* **Feature Engineering**\n",
    "    * [New Columns](#NEW_COLUMNS)\n",
    "    * [Dummy Variables](#DUMMY_VARIABLES)\n",
    "* [**Data Cleansing**](#DATA_CLEANSING)\n",
    "* [**Model Assembly**](#MODEL_ASSEMBLY)\n",
    "* [**=> Submission**](#SUBMISSION)"
   ]
  },
  {
   "cell_type": "markdown",
   "metadata": {},
   "source": [
    "---\n",
    "### Setup"
   ]
  },
  {
   "cell_type": "markdown",
   "metadata": {},
   "source": [
    "<a id='IMPORT'></a>\n",
    "##### **IMPORT AND LOAD**"
   ]
  },
  {
   "cell_type": "code",
   "execution_count": 1,
   "metadata": {},
   "outputs": [],
   "source": [
    "import pandas as pd\n",
    "import numpy as np\n",
    "\n",
    "from datetime import datetime as dt\n",
    "\n",
    "from sklearn.model_selection import train_test_split\n",
    "from sklearn.ensemble import RandomForestRegressor\n",
    "from sklearn import metrics"
   ]
  },
  {
   "cell_type": "code",
   "execution_count": 2,
   "metadata": {},
   "outputs": [],
   "source": [
    "df_train = pd.read_csv('main_task.csv')\n",
    "df_test = pd.read_csv('kaggle_task.csv')\n",
    "\n",
    "df_test.drop('Name', axis=1, inplace=True)\n",
    "\n",
    "# In order to process the features correctly let's combine Train and Test into one dataset:\n",
    "df_train['sample'] = 1  # label for Train\n",
    "df_test['sample'] = 0  # label for Test\n",
    "df_test['Rating'] = 0  # target variable\n",
    "\n",
    "df = df_test.append(df_train, sort = False).reset_index(drop=True)"
   ]
  },
  {
   "cell_type": "markdown",
   "metadata": {},
   "source": [
    "<a id='CONFIGURE_PRESETS'></a>\n",
    "##### **CONFIGURE PRESETS**"
   ]
  },
  {
   "cell_type": "code",
   "execution_count": 3,
   "metadata": {},
   "outputs": [],
   "source": [
    "# Version of the solution\n",
    "VERSION = 1.0\n",
    "\n",
    "# Fix random seed constant and packets versions\n",
    "RANDOM_SEED = 42\n",
    "!pip freeze > requirements.txt\n",
    "\n",
    "# Define helper rounding function\n",
    "round_rate = lambda x: round(x * 2) / 2\n",
    "vfunc = np.vectorize(round_rate)\n",
    "\n",
    "# Prepare datetime parser\n",
    "datetimify = lambda s: dt.strptime(s, '%m/%d/%Y')\n",
    "def is_date(s):\n",
    "    try:\n",
    "        datetimify(s)\n",
    "        return True\n",
    "    except ValueError:\n",
    "        return False\n",
    "\n",
    "# Capital cities list\n",
    "capitals = ['Paris', 'Stockholm', 'London', 'Berlin', 'Bratislava', \n",
    "            'Vienna', 'Rome', 'Madrid', 'Dublin', 'Brussels', 'Warsaw', \n",
    "            'Budapest', 'Copenhagen', 'Amsterdam', 'Lisbon', 'Prague', \n",
    "            'Oslo', 'Helsinki', 'Edinburgh', 'Ljubljana', 'Athens', 'Luxembourg']\n",
    "\n",
    "# Cities population dict\n",
    "cities_population = {\n",
    "    'Paris': 2140526, 'Stockholm': 965232, 'London': 8908081, 'Berlin': 3748148, \n",
    "    'Munich': 1456039, 'Oporto': 214349, 'Milan': 1385023,'Bratislava': 432864, \n",
    "    'Vienna': 1888776, 'Rome': 4355725, 'Barcelona': 1620343, 'Madrid': 3223334, \n",
    "    'Dublin': 1173179,'Brussels': 1191604, 'Zurich': 428737, 'Warsaw': 1783321, \n",
    "    'Budapest': 1750268, 'Copenhagen': 1000218, 'Amsterdam': 1380872,'Lyon': 506615, \n",
    "    'Hamburg': 1841179,'Lisbon': 505526, 'Prague': 1309182, 'Oslo': 673469, \n",
    "    'Helsinki': 648042, 'Edinburgh': 518500, 'Geneva': 201741, 'Ljubljana': 288250, \n",
    "    'Athens': 664046, 'Luxembourg': 115227, 'Krakow': 771069\n",
    "}\n",
    "\n",
    "words_weights = {\n",
    "    'excellent': 1, \n",
    "    'ex': 1, \n",
    "    'great': 1, \n",
    "    'good': 1, \n",
    "    'bad': -1\n",
    "}\n",
    "\n",
    "words_attributes = {}\n",
    "\n",
    "# Cuisines Groups dict\n",
    "cuisines_groups = {\n",
    "    'European': ['European', 'Pizza'], \n",
    "    'French': ['French'], \n",
    "    'Bar': ['Bar'], \n",
    "    'Special': ['Vegetarian Friendly', 'Vegan Options', 'Gluten Free Options', 'Healthy']\n",
    "}"
   ]
  },
  {
   "cell_type": "markdown",
   "metadata": {},
   "source": [
    "<a id='DATA_PREPARATION'></a>\n",
    "\n",
    "---\n",
    "### Data Preparation"
   ]
  },
  {
   "cell_type": "code",
   "execution_count": 4,
   "metadata": {},
   "outputs": [],
   "source": [
    "# Convert 'Cuisine Style' column values to list\n",
    "listify_cuisines = lambda s: s[1:-1].replace(\"'\", \"\").split(\", \")\\\n",
    "                             if not pd.isnull(s) else ['null']\n",
    "df['Cuisine Style'] = df['Cuisine Style'].apply(listify_cuisines)\n",
    "\n",
    "# Make \"all cuisine types\" list\n",
    "cuisines = []\n",
    "for s in df['Cuisine Style']:\n",
    "    for c in s:\n",
    "        if not c in cuisines:\n",
    "            cuisines.append(c)\n",
    "\n",
    "# Make dict with cuisines prevalence among restaurants\n",
    "cuisines_rests = {}\n",
    "for cu in cuisines:\n",
    "    cuisines_rests.update({cu : 0})\n",
    "    \n",
    "for i in range(0, df['Cuisine Style'].count()):\n",
    "    df_cu = df['Cuisine Style'].iloc[i]\n",
    "    if not df_cu == []:\n",
    "        for cu in cuisines:\n",
    "            if cu in df_cu:\n",
    "                cuisines_rests[cu] += 1\n",
    "                \n",
    "for cu in cuisines_rests.items():\n",
    "    cuisines_rests[cu[0]] = round(cu[1] / 1000)\n",
    "    \n",
    "# Split \"Reviews\" column into \"Only Reviews\" and \"Only Dates\" columns\n",
    "listify_reviews = lambda s: s[1:-1].replace(\"'\", \"\").split(\", \")\\\n",
    "                            if not pd.isnull(s) else []\n",
    "clear_strings = lambda l: [s.strip('[]') for s in l]\n",
    "df['Reviews'] = df['Reviews'].apply(listify_reviews).apply(clear_strings)\n",
    "\n",
    "# Define helper func for preprocessing \"Reviews\" column\n",
    "def get_review_dates_strs(l, get_dates=True):\n",
    "    dates = []\n",
    "    reviews = []\n",
    "    for s in l:\n",
    "        if is_date(s):\n",
    "            dates.append(datetimify(s))\n",
    "        else:\n",
    "            reviews.append(s)\n",
    "    return dates if get_dates else reviews\n",
    "\n",
    "df.insert(7, 'Only Reviews', df['Reviews'].apply(lambda x: get_review_dates_strs(x, get_dates=False)))\n",
    "df.insert(8, 'Only Dates', df['Reviews'].apply(lambda x: get_review_dates_strs(x, get_dates=True)))"
   ]
  },
  {
   "cell_type": "markdown",
   "metadata": {},
   "source": [
    "---\n",
    "### Feature Engineering"
   ]
  },
  {
   "cell_type": "markdown",
   "metadata": {},
   "source": [
    "<a id='NEW_COLUMNS'></a>\n",
    "##### **NEW COLUMNS**"
   ]
  },
  {
   "cell_type": "code",
   "execution_count": 5,
   "metadata": {},
   "outputs": [],
   "source": [
    "# Add column representing whether the restaurant is situated in a capital city\n",
    "is_capital = lambda x: 1 if x in capitals else 0\n",
    "df.insert(2, '[+] Is Capital', df['City'].apply(is_capital))\n",
    "\n",
    "# Add city population column\n",
    "df.insert(3, '[+] Population', df['City'].map(cities_population))\n",
    "\n",
    "# Add 'Cuisines Count' column (representing number of cuisines in offer)\n",
    "count_cuisines = lambda l: 1 if len(l) == 0 else len(l)\n",
    "df.insert(5, '[+] Cuisines Count', df['Cuisine Style'].apply(count_cuisines))\n",
    "\n",
    "# Add numeric representation of 'Price Range' column\n",
    "price_masks = {'$': 1, '$$ - $$$': 2.5, '$$$$': 4}\n",
    "df.insert(9, '[+] Prices Numeric', df['Price Range'].map(price_masks))\n",
    "\n",
    "# Add column for days span between reviews\n",
    "count_days_span = lambda x: None if len(x) == 0 else abs(x[len(x) - 1] - x[0]).days\n",
    "df.insert(13, '[+] Days Span', df['Only Dates'].apply(count_days_span))\n",
    "\n",
    "# Add column with number of days lasted from last review\n",
    "count_days_fromlast = lambda x: None if len(x) == 0 else abs(max(x) - dt.today()).days\n",
    "df.insert(14, '[+] Days From Last Review', df['Only Dates'].apply(count_days_fromlast))\n",
    "\n",
    "# Add column with reviews score\n",
    "get_score = lambda r: sum([r.count(w) * words_weights[w] for w in words_weights])\n",
    "ParseReviews = lambda reviews: sum([get_score(r.lower()) for r in reviews])\n",
    "\n",
    "df['[+] Reviews Score'] = df['Reviews'].apply(ParseReviews)"
   ]
  },
  {
   "cell_type": "markdown",
   "metadata": {},
   "source": [
    "<a id='DUMMY_VARIABLES'></a>\n",
    "##### **DUMMY VARIABLES**"
   ]
  },
  {
   "cell_type": "code",
   "execution_count": 6,
   "metadata": {},
   "outputs": [
    {
     "name": "stderr",
     "output_type": "stream",
     "text": [
      "C:\\ProgramData\\Anaconda3\\lib\\site-packages\\ipykernel_launcher.py:13: SettingWithCopyWarning: \n",
      "A value is trying to be set on a copy of a slice from a DataFrame\n",
      "\n",
      "See the caveats in the documentation: https://pandas.pydata.org/pandas-docs/stable/user_guide/indexing.html#returning-a-view-versus-a-copy\n",
      "  del sys.path[0]\n"
     ]
    }
   ],
   "source": [
    "# Add dummy variables for each city\n",
    "df = pd.get_dummies(df, columns=['City'], prefix=\"[d] [City]\", prefix_sep=\" \", dummy_na=True)\n",
    "\n",
    "# Add dummy variables for cuisines groups\n",
    "for col in cuisines_groups.keys():\n",
    "    df.insert(len(df.columns), col, 0)\n",
    "\n",
    "get_cuisine_groups = lambda cu: [gr for gr in cuisines_groups.keys() \n",
    "                                 if cu in cuisines_groups[gr]]\n",
    "\n",
    "def categorize_cuisine(cu, i):\n",
    "    for gr in get_cuisine_groups(cu):\n",
    "        df[gr][i] = 1\n",
    "        \n",
    "for i in range(df['Cuisine Style'].count()):\n",
    "    for c in df['Cuisine Style'][i]:\n",
    "        categorize_cuisine(c, i)"
   ]
  },
  {
   "cell_type": "code",
   "execution_count": 7,
   "metadata": {},
   "outputs": [],
   "source": [
    "# Values dimension optimization\n",
    "\n",
    "df['Ranking'] = df['Ranking'] / df['[+] Population']"
   ]
  },
  {
   "cell_type": "code",
   "execution_count": 8,
   "metadata": {},
   "outputs": [],
   "source": [
    "# -- ABSOLUTE RANDOM HACKS\n",
    "\n",
    "# Convert column with page ID_TA to it's numeric length\n",
    "df['ID_TA'] = df['ID_TA'].apply(lambda s: len(s))"
   ]
  },
  {
   "cell_type": "markdown",
   "metadata": {},
   "source": [
    "<a id='DATA_CLEANSING'></a>\n",
    "\n",
    "---\n",
    "### Data Cleansing"
   ]
  },
  {
   "cell_type": "code",
   "execution_count": 9,
   "metadata": {},
   "outputs": [],
   "source": [
    "### AVOID NONE-VALUES\n",
    "# Replace all NaN values of the \"Number of Reviews\" column with 0\n",
    "reviews_mean = df['Number of Reviews'].min()\n",
    "df = df.fillna({'Number of Reviews': reviews_mean})\n",
    "\n",
    "df['[+] Number of Reviews [isNAN]'] = pd.isna(df['Number of Reviews']).astype('uint8')\n",
    "df = df.fillna({'Number of Reviews': 0})\n",
    "\n",
    "# Replace all NaN values of the \"[+] Prices Numeric\" column with mean() value\n",
    "prices_mean = df['[+] Prices Numeric'].mean()\n",
    "df = df.fillna({'[+] Prices Numeric': prices_mean})\n",
    "\n",
    "# Replace all NaN values of the \"[+] Days Span\" column with 0\n",
    "df['[+] Days Span [isNAN]'] = pd.isna(df['[+] Days Span']).astype('uint8')\n",
    "df = df.fillna({'[+] Days Span': 0})\n",
    "\n",
    "# Replace all NaN values of the \"[+] Days From Last Review\" column with 0\n",
    "df['[+] Days From Last Review [isNAN]'] = pd.isna(df['[+] Days From Last Review']).astype('uint8')\n",
    "df = df.fillna({'[+] Days From Last Review': 0})\n",
    "\n",
    "### OMIT NON-NUMERICAL FEATURES\n",
    "# Exclude all columns with non-numerical dtypes\n",
    "df = df.select_dtypes(exclude = ['object'])"
   ]
  },
  {
   "cell_type": "code",
   "execution_count": 10,
   "metadata": {
    "scrolled": true
   },
   "outputs": [
    {
     "name": "stdout",
     "output_type": "stream",
     "text": [
      "<class 'pandas.core.frame.DataFrame'>\n",
      "RangeIndex: 50000 entries, 0 to 49999\n",
      "Data columns (total 51 columns):\n",
      " #   Column                             Non-Null Count  Dtype  \n",
      "---  ------                             --------------  -----  \n",
      " 0   [+] Is Capital                     50000 non-null  int64  \n",
      " 1   [+] Population                     50000 non-null  int64  \n",
      " 2   [+] Cuisines Count                 50000 non-null  int64  \n",
      " 3   Ranking                            50000 non-null  float64\n",
      " 4   Number of Reviews                  50000 non-null  float64\n",
      " 5   [+] Prices Numeric                 50000 non-null  float64\n",
      " 6   [+] Days Span                      50000 non-null  float64\n",
      " 7   [+] Days From Last Review          50000 non-null  float64\n",
      " 8   ID_TA                              50000 non-null  int64  \n",
      " 9   sample                             50000 non-null  int64  \n",
      " 10  Rating                             50000 non-null  float64\n",
      " 11  [+] Reviews Score                  50000 non-null  int64  \n",
      " 12  [d] [City] Amsterdam               50000 non-null  uint8  \n",
      " 13  [d] [City] Athens                  50000 non-null  uint8  \n",
      " 14  [d] [City] Barcelona               50000 non-null  uint8  \n",
      " 15  [d] [City] Berlin                  50000 non-null  uint8  \n",
      " 16  [d] [City] Bratislava              50000 non-null  uint8  \n",
      " 17  [d] [City] Brussels                50000 non-null  uint8  \n",
      " 18  [d] [City] Budapest                50000 non-null  uint8  \n",
      " 19  [d] [City] Copenhagen              50000 non-null  uint8  \n",
      " 20  [d] [City] Dublin                  50000 non-null  uint8  \n",
      " 21  [d] [City] Edinburgh               50000 non-null  uint8  \n",
      " 22  [d] [City] Geneva                  50000 non-null  uint8  \n",
      " 23  [d] [City] Hamburg                 50000 non-null  uint8  \n",
      " 24  [d] [City] Helsinki                50000 non-null  uint8  \n",
      " 25  [d] [City] Krakow                  50000 non-null  uint8  \n",
      " 26  [d] [City] Lisbon                  50000 non-null  uint8  \n",
      " 27  [d] [City] Ljubljana               50000 non-null  uint8  \n",
      " 28  [d] [City] London                  50000 non-null  uint8  \n",
      " 29  [d] [City] Luxembourg              50000 non-null  uint8  \n",
      " 30  [d] [City] Lyon                    50000 non-null  uint8  \n",
      " 31  [d] [City] Madrid                  50000 non-null  uint8  \n",
      " 32  [d] [City] Milan                   50000 non-null  uint8  \n",
      " 33  [d] [City] Munich                  50000 non-null  uint8  \n",
      " 34  [d] [City] Oporto                  50000 non-null  uint8  \n",
      " 35  [d] [City] Oslo                    50000 non-null  uint8  \n",
      " 36  [d] [City] Paris                   50000 non-null  uint8  \n",
      " 37  [d] [City] Prague                  50000 non-null  uint8  \n",
      " 38  [d] [City] Rome                    50000 non-null  uint8  \n",
      " 39  [d] [City] Stockholm               50000 non-null  uint8  \n",
      " 40  [d] [City] Vienna                  50000 non-null  uint8  \n",
      " 41  [d] [City] Warsaw                  50000 non-null  uint8  \n",
      " 42  [d] [City] Zurich                  50000 non-null  uint8  \n",
      " 43  [d] [City] nan                     50000 non-null  uint8  \n",
      " 44  European                           50000 non-null  int64  \n",
      " 45  French                             50000 non-null  int64  \n",
      " 46  Bar                                50000 non-null  int64  \n",
      " 47  Special                            50000 non-null  int64  \n",
      " 48  [+] Number of Reviews [isNAN]      50000 non-null  uint8  \n",
      " 49  [+] Days Span [isNAN]              50000 non-null  uint8  \n",
      " 50  [+] Days From Last Review [isNAN]  50000 non-null  uint8  \n",
      "dtypes: float64(6), int64(10), uint8(35)\n",
      "memory usage: 7.8 MB\n"
     ]
    }
   ],
   "source": [
    "df.info()"
   ]
  },
  {
   "cell_type": "markdown",
   "metadata": {},
   "source": [
    "<a id='MODEL_ASSEMBLY'></a>\n",
    "\n",
    "---\n",
    "### Model Assembly"
   ]
  },
  {
   "cell_type": "code",
   "execution_count": 11,
   "metadata": {},
   "outputs": [
    {
     "name": "stderr",
     "output_type": "stream",
     "text": [
      "[Parallel(n_jobs=-1)]: Using backend ThreadingBackend with 12 concurrent workers.\n",
      "[Parallel(n_jobs=-1)]: Done  26 tasks      | elapsed:    0.8s\n"
     ]
    },
    {
     "name": "stdout",
     "output_type": "stream",
     "text": [
      "MAE: 0.1684375\n"
     ]
    },
    {
     "name": "stderr",
     "output_type": "stream",
     "text": [
      "[Parallel(n_jobs=-1)]: Done 100 out of 100 | elapsed:    2.5s finished\n",
      "[Parallel(n_jobs=12)]: Using backend ThreadingBackend with 12 concurrent workers.\n",
      "[Parallel(n_jobs=12)]: Done  26 tasks      | elapsed:    0.0s\n",
      "[Parallel(n_jobs=12)]: Done 100 out of 100 | elapsed:    0.0s finished\n"
     ]
    }
   ],
   "source": [
    "# Generate train data back\n",
    "train_data = df.query('sample == 1').drop(['sample'], axis=1)\n",
    "\n",
    "# Х - data, \n",
    "# у - target value ('Rating')\n",
    "X = train_data.drop(['Rating'], axis=1)\n",
    "y = train_data['Rating']\n",
    "\n",
    "# Split data to Train and Test\n",
    "X_train, X_test, y_train, y_test = train_test_split(X, y, \n",
    "                                                    test_size=0.2, \n",
    "                                                    random_state=RANDOM_SEED)\n",
    "\n",
    "\n",
    "# Train and fit a Random Forest Regressor model on the Train data\n",
    "model = RandomForestRegressor(n_estimators=100, \n",
    "                              verbose=1, \n",
    "                              n_jobs=-1, \n",
    "                              random_state=RANDOM_SEED)\n",
    "model.fit(X_train, y_train)\n",
    "\n",
    "# Predict ratings and round them\n",
    "y_pred = vfunc(model.predict(X_test))\n",
    "\n",
    "print('MAE:', metrics.mean_absolute_error(y_test, y_pred))"
   ]
  },
  {
   "cell_type": "markdown",
   "metadata": {},
   "source": [
    "<a id='SUBMISSION'></a>\n",
    "\n",
    "---\n",
    "### ↥ Submission"
   ]
  },
  {
   "cell_type": "code",
   "execution_count": 12,
   "metadata": {},
   "outputs": [
    {
     "name": "stderr",
     "output_type": "stream",
     "text": [
      "[Parallel(n_jobs=-1)]: Using backend ThreadingBackend with 12 concurrent workers.\n",
      "[Parallel(n_jobs=-1)]: Done  26 tasks      | elapsed:    1.0s\n",
      "[Parallel(n_jobs=-1)]: Done 100 out of 100 | elapsed:    3.1s finished\n",
      "[Parallel(n_jobs=12)]: Using backend ThreadingBackend with 12 concurrent workers.\n",
      "[Parallel(n_jobs=12)]: Done  26 tasks      | elapsed:    0.0s\n",
      "[Parallel(n_jobs=12)]: Done 100 out of 100 | elapsed:    0.0s finished\n"
     ]
    },
    {
     "data": {
      "text/html": [
       "<div>\n",
       "<style scoped>\n",
       "    .dataframe tbody tr th:only-of-type {\n",
       "        vertical-align: middle;\n",
       "    }\n",
       "\n",
       "    .dataframe tbody tr th {\n",
       "        vertical-align: top;\n",
       "    }\n",
       "\n",
       "    .dataframe thead th {\n",
       "        text-align: right;\n",
       "    }\n",
       "</style>\n",
       "<table border=\"1\" class=\"dataframe\">\n",
       "  <thead>\n",
       "    <tr style=\"text-align: right;\">\n",
       "      <th></th>\n",
       "      <th>Restaurant_id</th>\n",
       "      <th>Rating</th>\n",
       "    </tr>\n",
       "  </thead>\n",
       "  <tbody>\n",
       "    <tr>\n",
       "      <th>0</th>\n",
       "      <td>id_0</td>\n",
       "      <td>3.0</td>\n",
       "    </tr>\n",
       "    <tr>\n",
       "      <th>1</th>\n",
       "      <td>id_1</td>\n",
       "      <td>4.0</td>\n",
       "    </tr>\n",
       "    <tr>\n",
       "      <th>2</th>\n",
       "      <td>id_2</td>\n",
       "      <td>4.5</td>\n",
       "    </tr>\n",
       "    <tr>\n",
       "      <th>3</th>\n",
       "      <td>id_3</td>\n",
       "      <td>4.5</td>\n",
       "    </tr>\n",
       "    <tr>\n",
       "      <th>4</th>\n",
       "      <td>id_4</td>\n",
       "      <td>4.5</td>\n",
       "    </tr>\n",
       "    <tr>\n",
       "      <th>5</th>\n",
       "      <td>id_5</td>\n",
       "      <td>4.5</td>\n",
       "    </tr>\n",
       "    <tr>\n",
       "      <th>6</th>\n",
       "      <td>id_6</td>\n",
       "      <td>1.0</td>\n",
       "    </tr>\n",
       "    <tr>\n",
       "      <th>7</th>\n",
       "      <td>id_7</td>\n",
       "      <td>2.5</td>\n",
       "    </tr>\n",
       "    <tr>\n",
       "      <th>8</th>\n",
       "      <td>id_8</td>\n",
       "      <td>4.0</td>\n",
       "    </tr>\n",
       "    <tr>\n",
       "      <th>9</th>\n",
       "      <td>id_9</td>\n",
       "      <td>4.5</td>\n",
       "    </tr>\n",
       "  </tbody>\n",
       "</table>\n",
       "</div>"
      ],
      "text/plain": [
       "  Restaurant_id  Rating\n",
       "0          id_0     3.0\n",
       "1          id_1     4.0\n",
       "2          id_2     4.5\n",
       "3          id_3     4.5\n",
       "4          id_4     4.5\n",
       "5          id_5     4.5\n",
       "6          id_6     1.0\n",
       "7          id_7     2.5\n",
       "8          id_8     4.0\n",
       "9          id_9     4.5"
      ]
     },
     "execution_count": 12,
     "metadata": {},
     "output_type": "execute_result"
    }
   ],
   "source": [
    "model.fit(X, y)\n",
    "\n",
    "test_data = df.query('sample == 0').drop(['sample'], axis=1)\n",
    "test_data = test_data.drop(['Rating'], axis=1)\n",
    "y_pred_submission = vfunc(model.predict(test_data))\n",
    "\n",
    "submission = pd.read_csv('sample_submission.csv')\n",
    "submission['Rating'] = y_pred_submission\n",
    "\n",
    "now = dt.now().strftime('[%d.%m.%Y]-[%H-%M]')\n",
    "submission.to_csv(f'submission_v{VERSION}-{now}.csv', index=False)\n",
    "\n",
    "submission.head(10)"
   ]
  },
  {
   "cell_type": "code",
   "execution_count": 13,
   "metadata": {},
   "outputs": [
    {
     "data": {
      "image/png": "[encoded data removed]",
      "text/plain": [
       "<Figure size 432x288 with 1 Axes>"
      ]
     },
     "metadata": {
      "needs_background": "light"
     },
     "output_type": "display_data"
    }
   ],
   "source": [
    "##\n",
    "## Feature Importance checkout\n",
    "##\n",
    "\n",
    "import matplotlib as plt\n",
    "\n",
    "plt.rcParams.update({'font.size': 22, 'xtick.color': 'black', 'ytick.color': 'black'})\n",
    "plt.rcParams['figure.figsize'] = (20, 10)\n",
    "feat_importances = pd.Series(model.feature_importances_, index=X.columns)\n",
    "feat_importances.nlargest(16).plot(kind='barh');"
   ]
  }
 ],
 "metadata": {
  "kernelspec": {
   "display_name": "Python 3",
   "language": "python",
   "name": "python3"
  },
  "language_info": {
   "codemirror_mode": {
    "name": "ipython",
    "version": 3
   },
   "file_extension": ".py",
   "mimetype": "text/x-python",
   "name": "python",
   "nbconvert_exporter": "python",
   "pygments_lexer": "ipython3",
   "version": "3.8.5"
  },
  "toc": {
   "base_numbering": 1,
   "nav_menu": {},
   "number_sections": false,
   "sideBar": true,
   "skip_h1_title": false,
   "title_cell": "Table of Contents",
   "title_sidebar": "Contents",
   "toc_cell": false,
   "toc_position": {
    "height": "calc(100% - 180px)",
    "left": "10px",
    "top": "150px",
    "width": "384px"
   },
   "toc_section_display": true,
   "toc_window_display": true
  },
  "varInspector": {
   "cols": {
    "lenName": 16,
    "lenType": 16,
    "lenVar": 40
   },
   "kernels_config": {
    "python": {
     "delete_cmd_postfix": "",
     "delete_cmd_prefix": "del ",
     "library": "var_list.py",
     "varRefreshCmd": "print(var_dic_list())"
    },
    "r": {
     "delete_cmd_postfix": ") ",
     "delete_cmd_prefix": "rm(",
     "library": "var_list.r",
     "varRefreshCmd": "cat(var_dic_list()) "
    }
   },
   "types_to_exclude": [
    "module",
    "function",
    "builtin_function_or_method",
    "instance",
    "_Feature"
   ],
   "window_display": false
  }
 },
 "nbformat": 4,
 "nbformat_minor": 2
}
