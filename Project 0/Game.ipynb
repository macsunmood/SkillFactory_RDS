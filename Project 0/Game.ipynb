{
 "cells": [
  {
   "cell_type": "markdown",
   "metadata": {},
   "source": [
    "### Модуль 00. GitHub. Самый быстрый старт\n",
    "\n",
    "#### Итоговое задание\n",
    "\n",
    "---\n",
    "\n",
    "В рамках модуля создаем игру, в которой необходимо угадать загаданное компьютером число (по дефолту - от 1 до 100)."
   ]
  },
  {
   "cell_type": "code",
   "execution_count": 3,
   "metadata": {},
   "outputs": [],
   "source": [
    "import numpy as np # библиотека вспомогательных функций\n",
    "\n",
    "RANGE_MAX = 100 # максимальное значение для диапазона загадываемого числа"
   ]
  },
  {
   "cell_type": "markdown",
   "metadata": {},
   "source": [
    "Ниже демонстрация того, как работает игра \"в ручном режиме\":"
   ]
  },
  {
   "cell_type": "code",
   "execution_count": 4,
   "metadata": {
    "collapsed": true
   },
   "outputs": [
    {
     "name": "stdout",
     "output_type": "stream",
     "text": [
      "Загадано число от 1 до 100\n",
      "50\n",
      "Угадываемое число больше 50\n",
      "75\n",
      "Угадываемое число меньше 75\n",
      "63\n",
      "Угадываемое число больше 63\n",
      "69\n",
      "Угадываемое число меньше 69\n",
      "65\n",
      "Вы угадали число 65 за 5 попыток.\n"
     ]
    }
   ],
   "source": [
    "count = 0 # счетчик попыток \n",
    "number = np.random.randint(1, RANGE_MAX + 1) # загадали число\n",
    "\n",
    "print (f'Загадано число от 1 до {RANGE_MAX}')\n",
    "\n",
    "while True: # бесконечный цикл \n",
    "    predict = int(input()) # предполагаемое число\n",
    "    count += 1 # плюсуем попытку\n",
    "    if number == predict: \n",
    "        break # выход из цикла, если угадали\n",
    "    elif number > predict: \n",
    "        print (f'Угадываемое число больше {predict}')\n",
    "    elif number < predict: \n",
    "        print (f'Угадываемое число меньше {predict}')\n",
    "    \n",
    "print (f'Вы угадали число {number} за {count} попыток.')"
   ]
  },
  {
   "cell_type": "markdown",
   "metadata": {},
   "source": [
    "#### Задача:\n",
    "> Написать алгоритм, который должен угадывать число и делать это за как можно меньшее число попыток.\n",
    "\n",
    "Для этого напишем функцию-тестировщик `score_game()`, которая будет многократно прогонять алгоритм и подсчитывать среднее число понадобившихся попыток, а также функцию `game_core()`, содержащую непосредственно сам алгоритм угадывания."
   ]
  },
  {
   "cell_type": "code",
   "execution_count": 5,
   "metadata": {},
   "outputs": [],
   "source": [
    "def score_game(game_core):\n",
    "    '''\n",
    "    Запускаем игру 1000 раз, чтобы узнать, за сколько попыток в среднем\n",
    "    алгоритм угадывает число\n",
    "    '''\n",
    "    count_ls = [] # список количеств попыток\n",
    "    # Фиксируем RANDOM SEED, чтобы эксперимент был воспроизводим:\n",
    "    np.random.seed(1)    \n",
    "    # Создадим массив из 1000 рандомно загаданных чисел:\n",
    "    random_array = np.random.randint(1, RANGE_MAX + 1, size=(1000))\n",
    "    \n",
    "    # Прогоним алгоритм угадывания через все значения массива random_array:\n",
    "    for number in random_array:\n",
    "        count_ls.append(game_core(number))\n",
    "    score = int(np.mean(count_ls)) # считаем среднее число понадобившихся попыток\n",
    "    \n",
    "    return print(f'Алгоритм угадывает число в среднем за {score} попыток')"
   ]
  },
  {
   "cell_type": "code",
   "execution_count": 6,
   "metadata": {},
   "outputs": [],
   "source": [
    "def game_core(number):\n",
    "    '''\n",
    "    Берем в качестве predict число, являющееся серединой всего диапазона,\n",
    "    затем последовательно сужаем зону поиска в два раза слева или справа от \n",
    "    текущего значения, в зависимости от того, больше искомое число или меньше.\n",
    "        \n",
    "    Функция принимает загаданное число и возвращает количество попыток, \n",
    "    потребовавшееся алгоритму, чтобы его угадать.\n",
    "    '''\n",
    "    count = 1 # счетчик попыток\n",
    "    # Стартовое значение - середина всего диапазона:\n",
    "    predict = half = round((RANGE_MAX + 1) / 2)\n",
    "    \n",
    "    # В цикле последовательно уменьшаем зону поиска, пока не угадаем число\n",
    "    while number != predict:\n",
    "        # Посчитаем значение половины от размера текущего диапазона поиска.\n",
    "        # Оно понадобится для нахождения середины следующего отрезка.\n",
    "        # Чтобы избежать застревания цикла, нельзя допускать, чтобы значение \n",
    "        # опускалось ниже единицы. Для этого ограничим его с помощью np.clip:\n",
    "        half = np.clip(round(half / 2), 1, RANGE_MAX)\n",
    "        \n",
    "        # Сужаем границы зоны дальнейшего поиска:\n",
    "        if predict < number:\n",
    "            predict += half # находим середину правой части\n",
    "        else:\n",
    "            predict -= half # находим середину левой части\n",
    "        count += 1\n",
    "        \n",
    "    return(count)"
   ]
  },
  {
   "cell_type": "markdown",
   "metadata": {},
   "source": [
    "Протестируем работу алгоритма угадывания:"
   ]
  },
  {
   "cell_type": "code",
   "execution_count": 122,
   "metadata": {},
   "outputs": [
    {
     "data": {
      "text/plain": [
       "2"
      ]
     },
     "execution_count": 122,
     "metadata": {},
     "output_type": "execute_result"
    }
   ],
   "source": [
    "game_core(number)"
   ]
  },
  {
   "cell_type": "markdown",
   "metadata": {},
   "source": [
    "Теперь измерим эффективность алгоритма:"
   ]
  },
  {
   "cell_type": "code",
   "execution_count": 124,
   "metadata": {},
   "outputs": [
    {
     "name": "stdout",
     "output_type": "stream",
     "text": [
      "Алгоритм угадывает число в среднем за 5 попыток\n"
     ]
    }
   ],
   "source": [
    "score_game(game_core)"
   ]
  }
 ],
 "metadata": {
  "kernelspec": {
   "display_name": "Python 3",
   "language": "python",
   "name": "python3"
  },
  "language_info": {
   "codemirror_mode": {
    "name": "ipython",
    "version": 3
   },
   "file_extension": ".py",
   "mimetype": "text/x-python",
   "name": "python",
   "nbconvert_exporter": "python",
   "pygments_lexer": "ipython3",
   "version": "3.7.6"
  },
  "toc": {
   "base_numbering": 1,
   "nav_menu": {},
   "number_sections": false,
   "sideBar": true,
   "skip_h1_title": false,
   "title_cell": "Table of Contents",
   "title_sidebar": "Contents",
   "toc_cell": false,
   "toc_position": {},
   "toc_section_display": true,
   "toc_window_display": true
  }
 },
 "nbformat": 4,
 "nbformat_minor": 4
}
